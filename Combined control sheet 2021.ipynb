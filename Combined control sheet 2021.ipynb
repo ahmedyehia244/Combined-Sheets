{
 "cells": [
  {
   "cell_type": "code",
   "execution_count": 1,
   "metadata": {},
   "outputs": [],
   "source": [
    "import pandas as pd\n",
    "import numpy as np\n",
    "import xlsxwriter as xlwt\n",
    "import xlrd\n",
    "import openpyxl"
   ]
  },
  {
   "cell_type": "code",
   "execution_count": 2,
   "metadata": {},
   "outputs": [],
   "source": [
    "import os\n",
    "import glob"
   ]
  },
  {
   "cell_type": "code",
   "execution_count": 7,
   "metadata": {},
   "outputs": [],
   "source": [
    "def addfield(indir=r'E:\\Work CIC\\05 Spring 2021\\Control\\Combined Control Sheet\\Spring'):\n",
    "    os.chdir(indir)\n",
    "    filelist=glob.glob(\"*.xlsx\")\n",
    "    for filename in filelist:\n",
    "        df=pd.read_excel(filename,sheet_name='2012 (new)', header=5,usecols=[2,3,4,5,7,10])\n",
    "        df= df[df['Student ID'].notna()]\n",
    "        df2= pd.read_excel(filename,sheet_name='2017 (new)', header=5, usecols=[2,3,4,5,7,10])\n",
    "        df2= df2[df2['Student ID'].notna()]\n",
    "        df=df.append(df2)\n",
    "        df[\"course\"]=[filename.rsplit(\" \",0)[0]]*df.shape[0]\n",
    "        df['Sem']= 'SPRING'\n",
    "        df.to_excel(filename+\".xlsx\",index= None, header= True)"
   ]
  },
  {
   "cell_type": "code",
   "execution_count": 9,
   "metadata": {},
   "outputs": [],
   "source": [
    "def concat(indir=r'E:\\Work CIC\\05 Spring 2021\\Control\\Combined Control Sheet\\Spring\\CC',outd=r'E:\\Work CIC\\05 Spring 2021\\Control\\Combined Control Sheet\\Spring.xlsx'):\n",
    "    os.chdir(indir)\n",
    "    filelist=glob.glob(\"*.xlsx\")\n",
    "    dflist=[]\n",
    "    for filename in filelist:\n",
    "        df=pd.read_excel(filename)\n",
    "        dflist.append(df)\n",
    "    concatdf=pd.concat(dflist)\n",
    "    coursecode= concatdf['course'].str.split(\"_\",2, expand= True)\n",
    "    concatdf['course code']= coursecode[0]\n",
    "    concatdf['course name']= coursecode[1]\n",
    "    concatdf.drop(columns=['course'],inplace=True)\n",
    "    concatdf.to_excel(outd,index=None)"
   ]
  },
  {
   "cell_type": "code",
   "execution_count": 8,
   "metadata": {},
   "outputs": [],
   "source": [
    "addfield()"
   ]
  },
  {
   "cell_type": "code",
   "execution_count": 10,
   "metadata": {},
   "outputs": [],
   "source": [
    "concat()"
   ]
  },
  {
   "cell_type": "code",
   "execution_count": null,
   "metadata": {},
   "outputs": [],
   "source": []
  },
  {
   "cell_type": "code",
   "execution_count": null,
   "metadata": {},
   "outputs": [],
   "source": []
  },
  {
   "cell_type": "code",
   "execution_count": null,
   "metadata": {},
   "outputs": [],
   "source": [
    "\n"
   ]
  },
  {
   "cell_type": "code",
   "execution_count": null,
   "metadata": {},
   "outputs": [],
   "source": []
  },
  {
   "cell_type": "code",
   "execution_count": null,
   "metadata": {},
   "outputs": [],
   "source": []
  },
  {
   "cell_type": "code",
   "execution_count": null,
   "metadata": {},
   "outputs": [],
   "source": []
  },
  {
   "cell_type": "code",
   "execution_count": null,
   "metadata": {},
   "outputs": [],
   "source": []
  },
  {
   "cell_type": "code",
   "execution_count": null,
   "metadata": {},
   "outputs": [],
   "source": []
  }
 ],
 "metadata": {
  "kernelspec": {
   "display_name": "Python 3 (ipykernel)",
   "language": "python",
   "name": "python3"
  },
  "language_info": {
   "codemirror_mode": {
    "name": "ipython",
    "version": 3
   },
   "file_extension": ".py",
   "mimetype": "text/x-python",
   "name": "python",
   "nbconvert_exporter": "python",
   "pygments_lexer": "ipython3",
   "version": "3.9.12"
  }
 },
 "nbformat": 4,
 "nbformat_minor": 4
}
